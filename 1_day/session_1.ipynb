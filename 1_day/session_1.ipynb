{
 "cells": [
  {
   "cell_type": "markdown",
   "metadata": {},
   "source": [
    "# Python Fundamentals\n",
    "* Numbers\n",
    "* Strings\n",
    "* List\n",
    "* Tuple\n",
    "* Dictionary\n",
    "* Other Core Types"
   ]
  },
  {
   "cell_type": "code",
   "execution_count": 15,
   "metadata": {},
   "outputs": [
    {
     "name": "stdout",
     "output_type": "stream",
     "text": [
      "6.0\n",
      "2.0\n",
      "8.0\n",
      "2.0\n",
      "0.0\n",
      "4.0\n",
      "16.0\n",
      "[0, 2, 3, 4, 6, 7]\n",
      "['a', 'c', 'd', 'j', 's']\n"
     ]
    },
    {
     "data": {
      "text/plain": [
       "5"
      ]
     },
     "execution_count": 15,
     "metadata": {},
     "output_type": "execute_result"
    }
   ],
   "source": [
    "# Floats\n",
    "x = 4.0\n",
    "y = 2.0\n",
    "\n",
    "# Addition\n",
    "print(x + y)\n",
    "\n",
    "# Subtraction\n",
    "print(x - y)\n",
    "\n",
    "# Multiplication\n",
    "print(x * y)\n",
    "\n",
    "# Returns the quotient\n",
    "print(x / y)\n",
    "\n",
    "# Returns the remainder\n",
    "print(x % y) \n",
    "\n",
    "# Absolute value\n",
    "print(abs(x))\n",
    "\n",
    "# x to the power y\n",
    "print(x ** y)\n",
    "\n",
    "\n",
    "import array as arr\n",
    "a = arr.array(\"I\",[1,2,3,4,5])\n",
    "type(a)\n",
    "\n",
    "list = [6,4,7,2,3,0]\n",
    "list.sort()\n",
    "print(list)\n",
    "\n",
    "list = [\"a\",\"j\",\"d\",\"s\",\"c\"]\n",
    "list.sort()\n",
    "print(list)\n",
    "\n",
    "x = [1,2,3,4,5]\n",
    "sum(x)\n",
    "max(x)\n"
   ]
  }
 ],
 "metadata": {
  "kernelspec": {
   "display_name": "Python 3",
   "language": "python",
   "name": "python3"
  },
  "language_info": {
   "codemirror_mode": {
    "name": "ipython",
    "version": 3
   },
   "file_extension": ".py",
   "mimetype": "text/x-python",
   "name": "python",
   "nbconvert_exporter": "python",
   "pygments_lexer": "ipython3",
   "version": "3.7.3"
  }
 },
 "nbformat": 4,
 "nbformat_minor": 2
}
